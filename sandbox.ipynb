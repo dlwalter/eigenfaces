{
 "cells": [
  {
   "cell_type": "code",
   "execution_count": 23,
   "metadata": {},
   "outputs": [
    {
     "name": "stdout",
     "output_type": "stream",
     "text": [
      "31379\n",
      "156.895\n"
     ]
    }
   ],
   "source": [
    "import os\n",
    "import numpy\n",
    "import matplotlib\n",
    "from matplotlib import pyplot as plt\n",
    "import imageio\n",
    "%matplotlib inline\n",
    "\n",
    "images = []\n",
    "dir = 'images/faces/'\n",
    "path, dirs, files = next(os.walk(dir))\n",
    "for filename in files:\n",
    "        images.append(imageio.imread(dir + filename)) \n",
    "\n",
    "tot = 0        \n",
    "for image in images:\n",
    "    tot += image[0,0]\n",
    "    \n",
    "print(tot)\n",
    "print(tot/len(images))"
   ]
  },
  {
   "cell_type": "code",
   "execution_count": 37,
   "metadata": {},
   "outputs": [],
   "source": [
    "from PIL import Image\n",
    "import numpy\n",
    "im = Image.open('images/faces/1a.jpg')\n",
    "image0 = numpy.array(im.getdata(), dtype=numpy.uint8).reshape(image.shape)"
   ]
  },
  {
   "cell_type": "code",
   "execution_count": 38,
   "metadata": {},
   "outputs": [
    {
     "data": {
      "text/plain": [
       "(193, 162)"
      ]
     },
     "execution_count": 38,
     "metadata": {},
     "output_type": "execute_result"
    }
   ],
   "source": [
    "image0.shape"
   ]
  },
  {
   "cell_type": "code",
   "execution_count": null,
   "metadata": {
    "collapsed": true
   },
   "outputs": [],
   "source": []
  },
  {
   "cell_type": "code",
   "execution_count": null,
   "metadata": {
    "collapsed": true
   },
   "outputs": [],
   "source": []
  }
 ],
 "metadata": {
  "kernelspec": {
   "display_name": "Python 3",
   "language": "python",
   "name": "python3"
  },
  "language_info": {
   "codemirror_mode": {
    "name": "ipython",
    "version": 3
   },
   "file_extension": ".py",
   "mimetype": "text/x-python",
   "name": "python",
   "nbconvert_exporter": "python",
   "pygments_lexer": "ipython3",
   "version": "3.6.3"
  }
 },
 "nbformat": 4,
 "nbformat_minor": 2
}
